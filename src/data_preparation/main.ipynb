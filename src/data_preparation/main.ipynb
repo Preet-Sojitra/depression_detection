{
 "cells": [
  {
   "cell_type": "markdown",
   "metadata": {},
   "source": [
    "# Data Preparation using Pytorch Dataset and DataLoader"
   ]
  },
  {
   "cell_type": "code",
   "execution_count": 1,
   "metadata": {},
   "outputs": [],
   "source": [
    "import os\n",
    "import pandas as pd\n",
    "import numpy as np\n",
    "import librosa as lr\n",
    "import matplotlib.pyplot as plt\n",
    "import pickle\n",
    "\n",
    "import torch\n",
    "from torch.utils.data import Dataset, DataLoader\n",
    "import torchaudio\n",
    "\n"
   ]
  },
  {
   "cell_type": "code",
   "execution_count": 9,
   "metadata": {},
   "outputs": [
    {
     "name": "stdout",
     "output_type": "stream",
     "text": [
      "2.4.0+cu121\n",
      "2.4.0+cu121\n"
     ]
    }
   ],
   "source": [
    "print(torch.__version__)\n",
    "print(torchaudio.__version__)"
   ]
  },
  {
   "cell_type": "code",
   "execution_count": 2,
   "metadata": {},
   "outputs": [],
   "source": [
    "DATASET_DIR = \"../../extracted_audio\"\n",
    "DATAINFO_DIR = \"../../dataset_info\""
   ]
  },
  {
   "cell_type": "code",
   "execution_count": 5,
   "metadata": {},
   "outputs": [],
   "source": [
    "def create_melspectogram(files, split_type):\n",
    "    melspectograms = []\n",
    "    for file in files:\n",
    "        audio_path = os.path.join(DATASET_DIR, split_type, file)\n",
    "        wfm, sr = torchaudio.load(audio_path)\n",
    "        melspectogram = torchaudio.transforms.MelSpectrogram(\n",
    "            n_fft=1024, n_mels=128, hop_length=512, sample_rate=sr, norm=\"slaney\"\n",
    "        )(wfm)\n",
    "        melspectogram = melspectogram.to(torch.float16)\n",
    "        melspectograms.append(melspectogram)\n",
    "    return melspectograms"
   ]
  },
  {
   "cell_type": "code",
   "execution_count": 6,
   "metadata": {},
   "outputs": [],
   "source": [
    "train_files = sorted(os.listdir(os.path.join(DATASET_DIR, \"train\")))\n",
    "\n",
    "train_spectograms = create_melspectogram(train_files, \"train\")"
   ]
  },
  {
   "cell_type": "code",
   "execution_count": null,
   "metadata": {},
   "outputs": [],
   "source": [
    "# load spectrograms\n",
    "with open(\"train_melspectograms.pkl\", \"rb\") as f:\n",
    "    train_spectograms = pickle.load(f)"
   ]
  },
  {
   "cell_type": "code",
   "execution_count": 22,
   "metadata": {},
   "outputs": [],
   "source": [
    "def get_max_shape(all_spectograms):\n",
    "    MAX_SHAPE = max([spect.shape[2] for spect in all_spectograms])\n",
    "    return MAX_SHAPE\n",
    "    \n",
    "def pad_spectograms(all_spectograms):\n",
    "    MAX_SHAPE = get_max_shape(all_spectograms)\n",
    "    \n",
    "    for i in range(len(all_spectograms)):\n",
    "        spectogram = all_spectograms[i]\n",
    "        pad_len = MAX_SHAPE - spectogram.shape[2]\n",
    "        all_spectograms[i] = torch.nn.functional.pad(spectogram, (0, pad_len))\n",
    "        \n",
    "    return all_spectograms"
   ]
  },
  {
   "cell_type": "code",
   "execution_count": null,
   "metadata": {},
   "outputs": [],
   "source": [
    "padded_train_spectograms = pad_spectograms(train_spectograms)"
   ]
  },
  {
   "cell_type": "code",
   "execution_count": 15,
   "metadata": {},
   "outputs": [],
   "source": [
    "with open(\"train_melspectograms.pkl\", \"wb\") as f:\n",
    "    pickle.dump(train_spectograms, f)"
   ]
  },
  {
   "cell_type": "code",
   "execution_count": null,
   "metadata": {},
   "outputs": [],
   "source": []
  },
  {
   "cell_type": "code",
   "execution_count": 6,
   "metadata": {},
   "outputs": [],
   "source": [
    "class AudioDataset(Dataset):\n",
    "    def __init__(self, dataset_info_dir, spectograms_file, split_type):\n",
    "        self.spectograms = np.load(spectograms_file)\n",
    "        if split_type == \"train\":\n",
    "            df = pd.read_csv(os.path.join(dataset_info_dir, \"train_split_augmented.csv\"))\n",
    "            self.labels = df[\"PHQ_Binary\"]\n",
    "        else:\n",
    "            df = pd.read_csv(os.path.join(dataset_info_dir, f\"{split_type}_split.csv\"))\n",
    "            self.labels = df[\"PHQ_Binary\"]\n",
    "        \n",
    "    def __len__(self):\n",
    "        return len(self.spectograms)\n",
    "    \n",
    "    def __getitem__(self, idx):\n",
    "        spectogram = self.spectograms[idx]\n",
    "        label = self.labels[idx]\n",
    "        \n",
    "        return torch.tensor(spectogram), torch.tensor(label)"
   ]
  }
 ],
 "metadata": {
  "kernelspec": {
   "display_name": "Python (latest)",
   "language": "python",
   "name": "latest"
  },
  "language_info": {
   "codemirror_mode": {
    "name": "ipython",
    "version": 3
   },
   "file_extension": ".py",
   "mimetype": "text/x-python",
   "name": "python",
   "nbconvert_exporter": "python",
   "pygments_lexer": "ipython3",
   "version": "3.11.5"
  }
 },
 "nbformat": 4,
 "nbformat_minor": 4
}
