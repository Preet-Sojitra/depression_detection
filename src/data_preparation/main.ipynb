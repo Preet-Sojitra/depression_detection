{
 "cells": [
  {
   "cell_type": "code",
   "execution_count": 1,
   "metadata": {},
   "outputs": [],
   "source": [
    "import numpy as np\n",
    "import librosa as lr\n",
    "import pickle\n",
    "\n",
    "import os"
   ]
  },
  {
   "cell_type": "code",
   "execution_count": 9,
   "metadata": {},
   "outputs": [],
   "source": [
    "TRAIN_DIR = \"../../raw-dataset/data_splits/train\"\n",
    "DEV_DIR = \"../../raw-dataset/data_splits/dev\""
   ]
  },
  {
   "cell_type": "markdown",
   "metadata": {},
   "source": [
    "# Loading Train and Dev Data"
   ]
  },
  {
   "cell_type": "code",
   "execution_count": 10,
   "metadata": {},
   "outputs": [],
   "source": [
    "train_files = sorted(os.listdir(TRAIN_DIR))\n",
    "dev_files = sorted(os.listdir(DEV_DIR)) "
   ]
  },
  {
   "cell_type": "code",
   "execution_count": 4,
   "metadata": {},
   "outputs": [],
   "source": [
    "# create spectrogram\n",
    "\n",
    "def create_spectrogram(file):\n",
    "    y, sr = lr.load(file)\n",
    "    S = lr.feature.melspectrogram(y=y, sr=sr)\n",
    "    S = lr.power_to_db(S, ref=np.max)\n",
    "    # convert the dtype to float32 for reducing the size\n",
    "    S = S.astype(np.float32)\n",
    "    return S"
   ]
  },
  {
   "cell_type": "code",
   "execution_count": 5,
   "metadata": {},
   "outputs": [],
   "source": [
    "all_spectrograms = []\n",
    "\n",
    "for file in train_files:\n",
    "    file_id = file.split(\"_\")[0]\n",
    "    spectogram = create_spectrogram(os.path.join(TRAIN_DIR, file, f\"{file_id}_AUDIO.wav\"))\n",
    "    all_spectrograms.append(spectogram)"
   ]
  },
  {
   "cell_type": "code",
   "execution_count": 6,
   "metadata": {
    "tags": []
   },
   "outputs": [],
   "source": [
    "# save spectrograms\n",
    "with open(\"train_spectograms.pkl\", \"wb\") as f:\n",
    "    pickle.dump(all_spectrograms, f)"
   ]
  },
  {
   "cell_type": "code",
   "execution_count": 8,
   "metadata": {
    "tags": []
   },
   "outputs": [],
   "source": [
    "del (all_spectrograms, train_files)"
   ]
  },
  {
   "cell_type": "code",
   "execution_count": 13,
   "metadata": {
    "tags": []
   },
   "outputs": [],
   "source": [
    "# create dev data spectograms\n",
    "dev_spectograms = []\n",
    "\n",
    "for file in dev_files:\n",
    "    file_id = file.split(\"_\")[0]\n",
    "    spectogram = create_spectrogram(os.path.join(DEV_DIR, file, f\"{file_id}_AUDIO.wav\"))\n",
    "    dev_spectograms.append(spectogram)"
   ]
  },
  {
   "cell_type": "code",
   "execution_count": 19,
   "metadata": {
    "tags": []
   },
   "outputs": [],
   "source": [
    "# save spectrograms\n",
    "with open(\"dev_spectograms.pkl\", \"wb\") as f:\n",
    "    pickle.dump(dev_spectograms, f)"
   ]
  },
  {
   "cell_type": "markdown",
   "metadata": {},
   "source": [
    "# Padding Spectograms"
   ]
  },
  {
   "cell_type": "code",
   "execution_count": 2,
   "metadata": {},
   "outputs": [],
   "source": [
    "def pad_spectogram(all_spectograms):\n",
    "    MAX_SHAPE = max([spect.shape[1] for spect in all_spectograms])\n",
    "    # print(MAX_SHAPE)\n",
    "    \n",
    "    padded_spectograms = np.zeros((len(all_spectograms), all_spectograms[0].shape[0], MAX_SHAPE), dtype=np.float16)\n",
    "    # print(padded_spectograms.shape)\n",
    "    \n",
    "    for i in range(len(all_spectograms)):\n",
    "        spectogram = all_spectograms[i]\n",
    "        (row, col) = spectogram.shape\n",
    "        pad_len = MAX_SHAPE - col\n",
    "        padded_spect = np.pad(spectogram, ((0,0),(0, pad_len)), mode=\"constant\")\n",
    "        \n",
    "        padded_spectograms[i] = padded_spect\n",
    "        \n",
    "    return padded_spectograms"
   ]
  },
  {
   "cell_type": "code",
   "execution_count": 3,
   "metadata": {
    "tags": []
   },
   "outputs": [],
   "source": [
    "with open(\"train_spectograms.pkl\", \"rb\") as f:\n",
    "    train_spectograms = pickle.load(f)"
   ]
  },
  {
   "cell_type": "code",
   "execution_count": 4,
   "metadata": {
    "tags": []
   },
   "outputs": [],
   "source": [
    "padded_train_spectograms = pad_spectogram(train_spectograms)"
   ]
  },
  {
   "cell_type": "code",
   "execution_count": 5,
   "metadata": {
    "tags": []
   },
   "outputs": [],
   "source": [
    "np.save(\"padded_train_spectograms.npy\", padded_train_spectograms)"
   ]
  }
 ],
 "metadata": {
  "kernelspec": {
   "display_name": "Python (latest)",
   "language": "python",
   "name": "latest"
  },
  "language_info": {
   "codemirror_mode": {
    "name": "ipython",
    "version": 3
   },
   "file_extension": ".py",
   "mimetype": "text/x-python",
   "name": "python",
   "nbconvert_exporter": "python",
   "pygments_lexer": "ipython3",
   "version": "3.11.5"
  }
 },
 "nbformat": 4,
 "nbformat_minor": 4
}
