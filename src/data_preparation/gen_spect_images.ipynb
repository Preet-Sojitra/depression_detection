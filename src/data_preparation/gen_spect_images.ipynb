{
 "cells": [
  {
   "cell_type": "markdown",
   "metadata": {},
   "source": [
    "# Saving Spectogram as Images"
   ]
  },
  {
   "cell_type": "code",
   "execution_count": 1,
   "metadata": {},
   "outputs": [
    {
     "name": "stderr",
     "output_type": "stream",
     "text": [
      "2024-11-04 18:01:09.967993: I tensorflow/core/platform/cpu_feature_guard.cc:210] This TensorFlow binary is optimized to use available CPU instructions in performance-critical operations.\n",
      "To enable the following instructions: AVX2 FMA, in other operations, rebuild TensorFlow with the appropriate compiler flags.\n",
      "2024-11-04 18:01:11.304266: W tensorflow/compiler/tf2tensorrt/utils/py_utils.cc:38] TF-TRT Warning: Could not find TensorRT\n"
     ]
    }
   ],
   "source": [
    "import numpy as np\n",
    "import matplotlib.pyplot as plt\n",
    "import librosa as lr\n",
    "import os\n",
    "import cv2 as cv\n",
    "\n",
    "import tensorflow as tf"
   ]
  },
  {
   "cell_type": "code",
   "execution_count": 2,
   "metadata": {},
   "outputs": [],
   "source": [
    "DEST_DIR = \"../../extracted_features\"\n",
    "AUDIO_DIR = \"../../extracted_audio\""
   ]
  },
  {
   "cell_type": "code",
   "execution_count": 4,
   "metadata": {},
   "outputs": [],
   "source": [
    "def save_spectogram(split_type):\n",
    "    \n",
    "    # create dirs\n",
    "    if not os.path.exists(f\"{DEST_DIR}/spect_images\"):\n",
    "        os.makedirs(f\"{DEST_DIR}/spect_images\")\n",
    "        \n",
    "    if not os.path.exists(f\"{DEST_DIR}/spect_images/{split_type}\"):\n",
    "        os.makedirs(f\"{DEST_DIR}/spect_images/{split_type}\")\n",
    "        \n",
    "    files = sorted(os.listdir(f\"{AUDIO_DIR}/{split_type}\"))\n",
    "    \n",
    "    for file in files:\n",
    "        if not file.endswith(\".wav\"):\n",
    "            continue\n",
    "        \n",
    "        y, sr = lr.load(f\"{AUDIO_DIR}/{split_type}/{file}\")\n",
    "        y = lr.resample(y, orig_sr=sr, target_sr=16000)\n",
    "        \n",
    "        # compute mel spectrogram\n",
    "        melspectogram = lr.feature.melspectrogram(y=y, sr=16000, n_mels=128, fmax=8000)\n",
    "        log_spect = np.log(melspectogram + 1e-9)\n",
    "        log_spect = log_spect.T\n",
    "        \n",
    "        # normalize\n",
    "        log_spect -= log_spect.min()\n",
    "        log_spect /= log_spect.max()\n",
    "        log_spect *= 255\n",
    "        log_spect = log_spect.astype(np.uint8)\n",
    "        \n",
    "        # resize\n",
    "        resized_log_spect = cv.resize(log_spect, (512, 512), interpolation=cv.INTER_CUBIC)\n",
    "        \n",
    "        # save image\n",
    "        try:\n",
    "            filename = file.replace('.wav', '.png')\n",
    "            cv.imwrite(f\"{DEST_DIR}/spect_images/{split_type}/{filename}\", resized_log_spect)\n",
    "        except Exception as e:\n",
    "            print(f\"Error processing {file}: {e}\")\n",
    "    \n",
    "    print(f\"Saved {split_type} spectograms\")"
   ]
  },
  {
   "cell_type": "code",
   "execution_count": 5,
   "metadata": {},
   "outputs": [
    {
     "name": "stdout",
     "output_type": "stream",
     "text": [
      "Saved test spectograms\n"
     ]
    }
   ],
   "source": [
    "save_spectogram(\"test\")"
   ]
  }
 ],
 "metadata": {
  "kernelspec": {
   "display_name": "Python (latest)",
   "language": "python",
   "name": "latest"
  },
  "language_info": {
   "codemirror_mode": {
    "name": "ipython",
    "version": 3
   },
   "file_extension": ".py",
   "mimetype": "text/x-python",
   "name": "python",
   "nbconvert_exporter": "python",
   "pygments_lexer": "ipython3",
   "version": "3.11.5"
  }
 },
 "nbformat": 4,
 "nbformat_minor": 2
}
