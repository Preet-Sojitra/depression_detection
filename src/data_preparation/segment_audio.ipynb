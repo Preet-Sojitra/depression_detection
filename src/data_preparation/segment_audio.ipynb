{
 "cells": [
  {
   "cell_type": "code",
   "execution_count": 27,
   "metadata": {},
   "outputs": [],
   "source": [
    "import numpy as np\n",
    "import librosa as lr\n",
    "import soundfile as sf\n",
    "import pandas as pd\n",
    "\n",
    "import os"
   ]
  },
  {
   "cell_type": "code",
   "execution_count": 28,
   "metadata": {},
   "outputs": [],
   "source": [
    "DATASET_DIR = \"../../extracted_audio\"\n",
    "DEST_DIR = \"../../audio_chunks\"\n",
    "DATAINFO_DIR = \"../../dataset_info\""
   ]
  },
  {
   "cell_type": "code",
   "execution_count": null,
   "metadata": {},
   "outputs": [],
   "source": [
    "CHUNK_SIZE = 7 * 60 # 7 minutes\n",
    "CHUNK_SAMPLES = CHUNK_SIZE * 22050 # 22050 samples per second\n",
    "\n",
    "def chunk_audio(split_type):\n",
    "    \n",
    "    if not os.path.exists(f\"{DEST_DIR}/{split_type}\"):\n",
    "        os.makedirs(f\"{DEST_DIR}/{split_type}\")\n",
    "        \n",
    "    files = sorted(os.listdir(f\"{DATASET_DIR}/{split_type}\"))\n",
    "    \n",
    "    # track lables\n",
    "    df = pd.read_csv(f\"{DATAINFO_DIR}/{split_type}_split_new.csv\")\n",
    "    \n",
    "    stats = []\n",
    "    for file in files:\n",
    "        # print(f\"Processing {file}\")\n",
    "        \n",
    "        if not file.endswith(\".wav\"):\n",
    "            continue\n",
    "    \n",
    "        audio, sr = lr.load(f\"{DATASET_DIR}/{split_type}/{file}\", sr=None)\n",
    "        chunks = []\n",
    "        \n",
    "        num_chunks = audio.shape[0] // CHUNK_SAMPLES + (1 if audio.shape[0] % CHUNK_SAMPLES != 0 else 0)\n",
    "        \n",
    "        # get label for the track\n",
    "        label = df[df[\"Participant_ID\"] == file][\"PHQ_Binary\"].values[0]\n",
    "        \n",
    "        for i in range(num_chunks):\n",
    "            start_idx = i * CHUNK_SAMPLES\n",
    "            end_idx = start_idx + CHUNK_SAMPLES\n",
    "            chunk = audio[start_idx:end_idx]\n",
    "            \n",
    "            # if last chunk if of 3 minutes or less => drop it \n",
    "            # if last chunk is of more than 3 minutes => pad it\n",
    "            \n",
    "            three_min_samples = 3 * 60 * 22050\n",
    "            \n",
    "            if i == num_chunks - 1:\n",
    "                if chunk.shape[0] < three_min_samples:\n",
    "                    continue\n",
    "                elif chunk.shape[0] > three_min_samples and chunk.shape[0] < CHUNK_SAMPLES:\n",
    "                    chunk = np.pad(chunk, (0, CHUNK_SAMPLES - chunk.shape[0]), \"constant\")\n",
    "            \n",
    "            chunks.append(chunk)\n",
    "\n",
    "        stats.append({\"file\": file, \"num_chunks\": num_chunks, \"label\": label})\n",
    "            \n",
    "        # Save chunks\n",
    "        for i, chunk in enumerate(chunks):\n",
    "            sf.write(f\"{DEST_DIR}/{split_type}/{file[:-4]}_{i}.wav\", chunk, sr)\n",
    "    \n",
    "    return stats"
   ]
  },
  {
   "cell_type": "code",
   "execution_count": null,
   "metadata": {},
   "outputs": [],
   "source": [
    "stats = chunk_audio(\"train\")\n",
    "\n",
    "# save stats\n",
    "df = pd.DataFrame(stats)\n",
    "df.to_csv(f\"{DATAINFO_DIR}/train_chunks.csv\", index=False)"
   ]
  },
  {
   "cell_type": "code",
   "execution_count": 53,
   "metadata": {},
   "outputs": [],
   "source": [
    "stats = chunk_audio(\"dev\")\n",
    "\n",
    "# save stats\n",
    "df = pd.DataFrame(stats)\n",
    "df.to_csv(f\"{DATAINFO_DIR}/dev_chunks.csv\", index=False)"
   ]
  },
  {
   "cell_type": "code",
   "execution_count": 54,
   "metadata": {},
   "outputs": [],
   "source": [
    "stats = chunk_audio(\"test\")\n",
    "\n",
    "# save stats\n",
    "df = pd.DataFrame(stats)\n",
    "df.to_csv(f\"{DATAINFO_DIR}/test_chunks.csv\", index=False)"
   ]
  },
  {
   "cell_type": "code",
   "execution_count": 38,
   "metadata": {},
   "outputs": [],
   "source": [
    "def audio_size(split_type):\n",
    "    files = os.listdir(f\"{DATASET_DIR}/{split_type}\")\n",
    "    print(len(files))\n",
    "    \n",
    "    sizes = []\n",
    "    for file in files:\n",
    "        if not file.endswith(\".wav\"):\n",
    "            continue\n",
    "        audio, sr = lr.load(f\"{DATASET_DIR}/{split_type}/{file}\", sr=None)\n",
    "        sizes.append(audio.shape[0])\n",
    "        \n",
    "    sizes = np.array(sizes)\n",
    "    # size in minutes\n",
    "    sizes = (sizes / sr) / 60\n",
    "        \n",
    "    return sizes"
   ]
  },
  {
   "cell_type": "code",
   "execution_count": 39,
   "metadata": {},
   "outputs": [
    {
     "name": "stdout",
     "output_type": "stream",
     "text": [
      "275\n"
     ]
    }
   ],
   "source": [
    "sizes = audio_size(\"train\")"
   ]
  },
  {
   "cell_type": "code",
   "execution_count": 40,
   "metadata": {},
   "outputs": [
    {
     "data": {
      "text/plain": [
       "8.377490480052522"
      ]
     },
     "execution_count": 40,
     "metadata": {},
     "output_type": "execute_result"
    }
   ],
   "source": [
    "# avg size in minutes\n",
    "np.mean(sizes)"
   ]
  }
 ],
 "metadata": {
  "kernelspec": {
   "display_name": "Python (latest)",
   "language": "python",
   "name": "latest"
  },
  "language_info": {
   "codemirror_mode": {
    "name": "ipython",
    "version": 3
   },
   "file_extension": ".py",
   "mimetype": "text/x-python",
   "name": "python",
   "nbconvert_exporter": "python",
   "pygments_lexer": "ipython3",
   "version": "3.11.5"
  }
 },
 "nbformat": 4,
 "nbformat_minor": 2
}
