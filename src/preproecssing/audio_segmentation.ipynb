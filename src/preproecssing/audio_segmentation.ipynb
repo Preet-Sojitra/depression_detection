{
 "cells": [
  {
   "cell_type": "code",
   "execution_count": 25,
   "metadata": {},
   "outputs": [],
   "source": [
    "import numpy as np\n",
    "import librosa as lr\n",
    "import matplotlib.pyplot as plt\n",
    "import pandas as pd\n",
    "from scipy.io import wavfile\n",
    "\n",
    "import os"
   ]
  },
  {
   "cell_type": "code",
   "execution_count": 51,
   "metadata": {},
   "outputs": [],
   "source": [
    "TRAIN_DIR = \"../../raw-dataset/data_splits/train\"\n",
    "DEV_DIR = \"../../raw-dataset/data_splits/dev\""
   ]
  },
  {
   "cell_type": "markdown",
   "metadata": {},
   "source": [
    "# Cleaning Transcripts\n",
    "\n",
    "Som transcipts contains a some anamolies at the end where start time is less than previous end time. Below code drops those rows and saves the cleaned transcripts in a new file. Since those anamolies are at the end, we can safely drop them.\n"
   ]
  },
  {
   "cell_type": "code",
   "execution_count": 52,
   "metadata": {},
   "outputs": [],
   "source": [
    "def clean_transcripts(dir_name):\n",
    "    folders = sorted(os.listdir(dir_name))\n",
    "    for folder in folders:\n",
    "        # print(os.listdir(os.path.join(TRAIN_DIR, folder)))\n",
    "        # print(folder)\n",
    "        \n",
    "        print(f\"Cleaning {folder}\")\n",
    "        \n",
    "        id = folder.split(\"_\")[0]\n",
    "        \n",
    "        transcript = pd.read_csv(os.path.join(dir_name, folder, f\"{id}_Transcript.csv\"))\n",
    "        # print(transcript)\n",
    "        \n",
    "        start_time = transcript[\"Start_Time\"].values\n",
    "        end_time = transcript[\"End_Time\"].values\n",
    "\n",
    "        for i in range(1, len(start_time)):\n",
    "            if start_time[i] < end_time[i-1]:\n",
    "                print(f\"Anamoly found at index {i}\")\n",
    "                # drop that row\n",
    "                transcript.drop(i, inplace=True)\n",
    "\n",
    "        # save the cleaned transcript\n",
    "        transcript.to_csv(os.path.join(dir_name, folder, f\"{id}_Transcript_Clean.csv\"), index=False)\n",
    "        print(\"-----\")"
   ]
  },
  {
   "cell_type": "code",
   "execution_count": null,
   "metadata": {},
   "outputs": [],
   "source": [
    "clean_transcripts(DEV_DIR)"
   ]
  },
  {
   "cell_type": "markdown",
   "metadata": {},
   "source": [
    "# Extracting Audio Based on Transcripts"
   ]
  },
  {
   "cell_type": "code",
   "execution_count": 56,
   "metadata": {},
   "outputs": [],
   "source": [
    "TRAIN_DESTINATION_DIR = \"../../raw-dataset/extracted_audio/train\"\n",
    "DEV_DESTINATION_DIR = \"../../raw-dataset/extracted_audio/dev\""
   ]
  },
  {
   "cell_type": "code",
   "execution_count": 54,
   "metadata": {},
   "outputs": [],
   "source": [
    "def extract_audio_from_timestamps(src_dir, dest_dir):\n",
    "    src_folders = sorted(os.listdir(src_dir))\n",
    "    for folder in src_folders:\n",
    "        print(f\"Extracting audio for {folder}\") \n",
    "        id = folder.split(\"_\")[0]    \n",
    "        transcript = pd.read_csv(os.path.join(src_dir, folder, f\"{id}_Transcript_Clean.csv\"))\n",
    "        y, sr = lr.load(os.path.join(src_dir, folder, f\"{id}_AUDIO.wav\"))\n",
    "        \n",
    "        start_time = transcript[\"Start_Time\"].values\n",
    "        end_time = transcript[\"End_Time\"].values\n",
    "        \n",
    "        audio_chunks = []\n",
    "        for i in range(len(start_time)):\n",
    "            start = int(start_time[i]*sr)\n",
    "            end = int(end_time[i]*sr)\n",
    "            audio_chunks.extend(y[start:end])\n",
    "\n",
    "        # save the audio chunks\n",
    "        audio_chunks = np.array(audio_chunks)\n",
    "        \n",
    "        wavfile.write(os.path.join(dest_dir, f\"{id}_AUDIO.wav\"), sr, audio_chunks)"
   ]
  },
  {
   "cell_type": "code",
   "execution_count": 57,
   "metadata": {},
   "outputs": [
    {
     "name": "stdout",
     "output_type": "stream",
     "text": [
      "Extracting audio for 300_P\n",
      "Extracting audio for 301_P\n",
      "Extracting audio for 306_P\n",
      "Extracting audio for 317_P\n",
      "Extracting audio for 320_P\n",
      "Extracting audio for 321_P\n",
      "Extracting audio for 331_P\n",
      "Extracting audio for 334_P\n",
      "Extracting audio for 336_P\n",
      "Extracting audio for 343_P\n",
      "Extracting audio for 344_P\n",
      "Extracting audio for 347_P\n",
      "Extracting audio for 350_P\n",
      "Extracting audio for 365_P\n",
      "Extracting audio for 371_P\n",
      "Extracting audio for 373_P\n",
      "Extracting audio for 374_P\n",
      "Extracting audio for 381_P\n",
      "Extracting audio for 382_P\n",
      "Extracting audio for 388_P\n",
      "Extracting audio for 393_P\n",
      "Extracting audio for 401_P\n",
      "Extracting audio for 402_P\n",
      "Extracting audio for 408_P\n",
      "Extracting audio for 412_P\n",
      "Extracting audio for 415_P\n",
      "Extracting audio for 423_P\n",
      "Extracting audio for 425_P\n",
      "Extracting audio for 431_P\n",
      "Extracting audio for 433_P\n",
      "Extracting audio for 435_P\n",
      "Extracting audio for 437_P\n",
      "Extracting audio for 441_P\n",
      "Extracting audio for 442_P\n",
      "Extracting audio for 448_P\n",
      "Extracting audio for 451_P\n",
      "Extracting audio for 454_P\n",
      "Extracting audio for 455_P\n",
      "Extracting audio for 465_P\n",
      "Extracting audio for 468_P\n",
      "Extracting audio for 473_P\n",
      "Extracting audio for 475_P\n",
      "Extracting audio for 479_P\n",
      "Extracting audio for 480_P\n",
      "Extracting audio for 484_P\n",
      "Extracting audio for 486_P\n"
     ]
    }
   ],
   "source": [
    "extract_audio_from_timestamps(DEV_DIR, DEV_DESTINATION_DIR)"
   ]
  }
 ],
 "metadata": {
  "kernelspec": {
   "display_name": "Python (latest)",
   "language": "python",
   "name": "latest"
  },
  "language_info": {
   "codemirror_mode": {
    "name": "ipython",
    "version": 3
   },
   "file_extension": ".py",
   "mimetype": "text/x-python",
   "name": "python",
   "nbconvert_exporter": "python",
   "pygments_lexer": "ipython3",
   "version": "3.11.5"
  }
 },
 "nbformat": 4,
 "nbformat_minor": 2
}
