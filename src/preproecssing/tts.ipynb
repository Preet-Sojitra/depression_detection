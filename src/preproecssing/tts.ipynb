{
 "cells": [
  {
   "cell_type": "markdown",
   "metadata": {},
   "source": [
    "This file is not relevant. Kindly ignore this file."
   ]
  },
  {
   "cell_type": "code",
   "execution_count": 1,
   "metadata": {},
   "outputs": [],
   "source": [
    "import numpy as np\n",
    "import pandas as pd\n",
    "import os\n",
    "import shutil"
   ]
  },
  {
   "cell_type": "code",
   "execution_count": 2,
   "metadata": {},
   "outputs": [],
   "source": [
    "DATASET_DIR_DES = \"../../raw-dataset/DAIC-WOZ-description/\"\n",
    "DATASET_DIR = \"../../raw-dataset/raw_dataset/\"\n",
    "SPLIT_DIR = \"../../raw-dataset/data_splits/\"\n",
    "\n",
    "all_files = sorted(os.listdir(DATASET_DIR))"
   ]
  },
  {
   "cell_type": "code",
   "execution_count": 3,
   "metadata": {},
   "outputs": [
    {
     "data": {
      "text/plain": [
       "10"
      ]
     },
     "execution_count": 3,
     "metadata": {},
     "output_type": "execute_result"
    }
   ],
   "source": [
    "len(all_files)"
   ]
  },
  {
   "cell_type": "code",
   "execution_count": 4,
   "metadata": {},
   "outputs": [],
   "source": [
    "def split_data(split_file, split_name, all_files):\n",
    "    split = pd.read_csv(DATASET_DIR_DES + split_file)\n",
    "    participants_id = split[\"Participant_ID\"].values\n",
    "    all_files = sorted(os.listdir(DATASET_DIR))\n",
    "    split_files = [f for f in all_files if int(f.split(\"_\")[0]) in participants_id]\n",
    "    destination = SPLIT_DIR + split_name + \"/\"\n",
    "    if not os.path.exists(destination):\n",
    "        os.makedirs(destination)\n",
    "    for folder in split_files:\n",
    "        folder_name = folder\n",
    "        shutil.move(DATASET_DIR + folder_name, destination + folder_name)"
   ]
  },
  {
   "cell_type": "code",
   "execution_count": 7,
   "metadata": {},
   "outputs": [],
   "source": [
    "split_data(\"test_split.csv\", \"test\", all_files)"
   ]
  },
  {
   "cell_type": "code",
   "execution_count": 8,
   "metadata": {},
   "outputs": [
    {
     "data": {
      "text/plain": [
       "((163, 6), (56, 6), (56, 6))"
      ]
     },
     "execution_count": 8,
     "metadata": {},
     "output_type": "execute_result"
    }
   ],
   "source": [
    "train_split = pd.read_csv(DATASET_DIR_DES + \"train_split.csv\")\n",
    "dev_split = pd.read_csv(DATASET_DIR_DES + \"dev_split.csv\")\n",
    "test_split = pd.read_csv(DATASET_DIR_DES + \"test_split.csv\")\n",
    "\n",
    "train_split.shape, dev_split.shape, test_split.shape"
   ]
  }
 ],
 "metadata": {
  "kernelspec": {
   "display_name": "Python (latest)",
   "language": "python",
   "name": "latest"
  },
  "language_info": {
   "codemirror_mode": {
    "name": "ipython",
    "version": 3
   },
   "file_extension": ".py",
   "mimetype": "text/x-python",
   "name": "python",
   "nbconvert_exporter": "python",
   "pygments_lexer": "ipython3",
   "version": "3.11.5"
  }
 },
 "nbformat": 4,
 "nbformat_minor": 2
}
