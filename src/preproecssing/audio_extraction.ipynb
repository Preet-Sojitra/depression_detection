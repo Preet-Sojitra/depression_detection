{
 "cells": [
  {
   "cell_type": "code",
   "execution_count": 7,
   "metadata": {},
   "outputs": [],
   "source": [
    "import numpy as np\n",
    "import librosa as lr\n",
    "import matplotlib.pyplot as plt\n",
    "import pandas as pd\n",
    "import soundfile as sf\n",
    "\n",
    "import os\n",
    "import shutil"
   ]
  },
  {
   "cell_type": "code",
   "execution_count": 2,
   "metadata": {},
   "outputs": [],
   "source": [
    "TRAIN_DIR = \"../../raw-dataset/data_splits/train\"\n",
    "DEV_DIR = \"../../raw-dataset/data_splits/dev\"\n",
    "TEST_DIR = \"../../raw-dataset/data_splits/test\""
   ]
  },
  {
   "cell_type": "markdown",
   "metadata": {},
   "source": [
    "# Cleaning Transcripts\n",
    "\n",
    "Som transcipts contains a some anamolies at the end where start time is less than previous end time. Below code drops those rows and saves the cleaned transcripts in a new file. Since those anamolies are at the end, we can safely drop them.\n"
   ]
  },
  {
   "cell_type": "code",
   "execution_count": 3,
   "metadata": {},
   "outputs": [],
   "source": [
    "def clean_transcripts(dir_name):\n",
    "    folders = sorted(os.listdir(dir_name))\n",
    "    for folder in folders:\n",
    "        # print(os.listdir(os.path.join(TRAIN_DIR, folder)))\n",
    "        # print(folder)\n",
    "        \n",
    "        print(f\"Cleaning {folder}\")\n",
    "        \n",
    "        id = folder.split(\"_\")[0]\n",
    "        \n",
    "        transcript = pd.read_csv(os.path.join(dir_name, folder, f\"{id}_Transcript.csv\"))\n",
    "        # print(transcript)\n",
    "        \n",
    "        start_time = transcript[\"Start_Time\"].values\n",
    "        end_time = transcript[\"End_Time\"].values\n",
    "\n",
    "        for i in range(1, len(start_time)):\n",
    "            if start_time[i] < end_time[i-1]:\n",
    "                print(f\"Anamoly found at index {i}\")\n",
    "                # drop that row\n",
    "                transcript.drop(i, inplace=True)\n",
    "\n",
    "        # save the cleaned transcript\n",
    "        transcript.to_csv(os.path.join(dir_name, folder, f\"{id}_Transcript_Clean.csv\"), index=False)\n",
    "        print(\"-----\")"
   ]
  },
  {
   "cell_type": "markdown",
   "metadata": {},
   "source": [
    "# Extract all Transcripts"
   ]
  },
  {
   "cell_type": "code",
   "execution_count": 8,
   "metadata": {},
   "outputs": [],
   "source": [
    "def copy_clean_transcripts(dir_name, DEST_DIR):\n",
    "    if not os.path.exists(DEST_DIR):\n",
    "        os.makedirs(DEST_DIR)\n",
    "    folders = sorted(os.listdir(dir_name))\n",
    "    for folder in folders:\n",
    "        \n",
    "        print(f\"Copying {folder}\")\n",
    "        \n",
    "        id = folder.split(\"_\")[0]\n",
    "        \n",
    "        shutil.copyfile(os.path.join(dir_name, folder, f\"{id}_Transcript_Clean.csv\"), os.path.join(DEST_DIR, f\"{id}_Transcript.csv\"))"
   ]
  },
  {
   "cell_type": "code",
   "execution_count": null,
   "metadata": {},
   "outputs": [],
   "source": [
    "DEST_DIR = \"../../raw-dataset/all_transcripts/test\"\n",
    "\n",
    "copy_clean_transcripts(TEST_DIR, DEST_DIR)"
   ]
  },
  {
   "cell_type": "code",
   "execution_count": null,
   "metadata": {},
   "outputs": [],
   "source": [
    "clean_transcripts(TEST_DIR)"
   ]
  },
  {
   "cell_type": "markdown",
   "metadata": {},
   "source": [
    "# Extracting Audio Based on Transcripts"
   ]
  },
  {
   "cell_type": "code",
   "execution_count": 4,
   "metadata": {},
   "outputs": [],
   "source": [
    "TRAIN_DESTINATION_DIR = \"../../extracted_audio/train\"\n",
    "DEV_DESTINATION_DIR = \"../../extracted_audio/dev\"\n",
    "TEST_DESTINATION_DIR= \"../../extracted_audio/test\"\n",
    "\n",
    "dirs = [TRAIN_DESTINATION_DIR, DEV_DESTINATION_DIR, TEST_DESTINATION_DIR]"
   ]
  },
  {
   "cell_type": "code",
   "execution_count": 5,
   "metadata": {},
   "outputs": [],
   "source": [
    "def extract_audio_from_timestamps(src_dir, dest_dir):\n",
    "    src_folders = sorted(os.listdir(src_dir))\n",
    "    for folder in src_folders:\n",
    "        print(f\"Extracting audio for {folder}\") \n",
    "        id = folder.split(\"_\")[0]    \n",
    "        transcript = pd.read_csv(os.path.join(src_dir, folder, f\"{id}_Transcript_Clean.csv\"))\n",
    "        y, sr = lr.load(os.path.join(src_dir, folder, f\"{id}_AUDIO.wav\"))\n",
    "        \n",
    "        start_time = transcript[\"Start_Time\"].values\n",
    "        end_time = transcript[\"End_Time\"].values\n",
    "        \n",
    "        audio_chunks = []\n",
    "        for i in range(len(start_time)):\n",
    "            start = int(start_time[i]*sr)\n",
    "            end = int(end_time[i]*sr)\n",
    "            audio_chunks.extend(y[start:end])\n",
    "\n",
    "        # save the audio chunks\n",
    "        audio_chunks = np.array(audio_chunks)\n",
    "        \n",
    "        sf.write(os.path.join(dest_dir, f\"{id}_AUDIO.wav\"), audio_chunks, sr)\n",
    "        \n",
    "for dir in dirs:\n",
    "    os.makedirs(dir, exist_ok=True)"
   ]
  },
  {
   "cell_type": "code",
   "execution_count": null,
   "metadata": {},
   "outputs": [],
   "source": [
    "extract_audio_from_timestamps(TEST_DIR, TEST_DESTINATION_DIR)"
   ]
  }
 ],
 "metadata": {
  "kernelspec": {
   "display_name": "Python (latest)",
   "language": "python",
   "name": "latest"
  },
  "language_info": {
   "codemirror_mode": {
    "name": "ipython",
    "version": 3
   },
   "file_extension": ".py",
   "mimetype": "text/x-python",
   "name": "python",
   "nbconvert_exporter": "python",
   "pygments_lexer": "ipython3",
   "version": "3.11.5"
  }
 },
 "nbformat": 4,
 "nbformat_minor": 2
}
