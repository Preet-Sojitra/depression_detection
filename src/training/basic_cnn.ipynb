{
 "cells": [
  {
   "cell_type": "code",
   "execution_count": 1,
   "metadata": {
    "_cell_guid": "b1076dfc-b9ad-4769-8c92-a6c4dae69d19",
    "_uuid": "8f2839f25d086af736a60e9eeb907d3b93b6e0e5",
    "execution": {
     "iopub.execute_input": "2024-11-03T06:52:18.749809Z",
     "iopub.status.busy": "2024-11-03T06:52:18.749000Z",
     "iopub.status.idle": "2024-11-03T06:52:24.273343Z",
     "shell.execute_reply": "2024-11-03T06:52:24.272064Z",
     "shell.execute_reply.started": "2024-11-03T06:52:18.749749Z"
    },
    "trusted": true
   },
   "outputs": [
    {
     "name": "stdout",
     "output_type": "stream",
     "text": [
      "cpu\n"
     ]
    }
   ],
   "source": [
    "import os\n",
    "import pandas as pd\n",
    "import numpy as np\n",
    "import librosa as lr\n",
    "import matplotlib.pyplot as plt\n",
    "import seaborn as sns\n",
    "import pickle\n",
    "\n",
    "import torch\n",
    "import torchaudio\n",
    "import torchaudio.transforms as T\n",
    "from torch.utils.data import DataLoader, Dataset\n",
    "import torch.nn as nn\n",
    "import torch.nn.functional as F\n",
    "import torch.optim as optim\n",
    "\n",
    "mode = \"kaggle\"\n",
    "\n",
    "input_dir = \"\"\n",
    "output_dir = \"\"\n",
    "\n",
    "if mode == \"local\":\n",
    "    input_dir = \"../../\"\n",
    "    output_dir = \"\"\n",
    "\n",
    "if mode == \"kaggle\":\n",
    "    input_dir = \"/kaggle/input/depression-audio/daic-woz-dataset\"\n",
    "    features_dir = \"/kaggle/input/depression-audio/extracted_features\"\n",
    "    output_dir = \"/kaggle/working\"\n",
    "\n",
    "DATASET_DIR = f\"{input_dir}/extracted_audio\"\n",
    "DATAINFO_DIR = f\"{input_dir}/dataset_info\"\n",
    "MELSPECT_DIR = f\"{features_dir}/mel_spectograms\"\n",
    "\n",
    "device = torch.device(\"cuda\" if torch.cuda.is_available() else \"cpu\")\n",
    "print(device)"
   ]
  },
  {
   "cell_type": "code",
   "execution_count": 35,
   "metadata": {
    "execution": {
     "iopub.execute_input": "2024-10-30T18:37:32.227889Z",
     "iopub.status.busy": "2024-10-30T18:37:32.227440Z",
     "iopub.status.idle": "2024-10-30T18:37:32.234837Z",
     "shell.execute_reply": "2024-10-30T18:37:32.233169Z",
     "shell.execute_reply.started": "2024-10-30T18:37:32.227849Z"
    },
    "trusted": true
   },
   "outputs": [
    {
     "name": "stdout",
     "output_type": "stream",
     "text": [
      "2.4.0+cpu\n",
      "2.4.0+cpu\n"
     ]
    }
   ],
   "source": [
    "print(torch.__version__)\n",
    "print(torchaudio.__version__)"
   ]
  },
  {
   "cell_type": "markdown",
   "metadata": {},
   "source": [
    "# Pytorch Model Training"
   ]
  },
  {
   "cell_type": "markdown",
   "metadata": {},
   "source": [
    "## Dataset Loading"
   ]
  },
  {
   "cell_type": "code",
   "execution_count": 2,
   "metadata": {
    "execution": {
     "iopub.execute_input": "2024-11-02T18:38:42.615384Z",
     "iopub.status.busy": "2024-11-02T18:38:42.614739Z",
     "iopub.status.idle": "2024-11-02T18:38:42.625609Z",
     "shell.execute_reply": "2024-11-02T18:38:42.624682Z",
     "shell.execute_reply.started": "2024-11-02T18:38:42.615337Z"
    },
    "trusted": true
   },
   "outputs": [],
   "source": [
    "class SpectogramDataset(Dataset):\n",
    "    def __init__(self, split_type, transform=None, target_transform=None):\n",
    "        self.data = torch.load(os.path.join(MELSPECT_DIR, f\"{split_type}_stacked_seg_spect.pkl\"),\n",
    "                               weights_only=True)\n",
    "        self.labels = np.load(os.path.join(MELSPECT_DIR, f\"{split_type}_labels.npy\"))\n",
    "        self.transform = transform\n",
    "        self.target_transform = target_transform\n",
    "        \n",
    "    def __len__(self):\n",
    "        return len(self.data)\n",
    "    \n",
    "    def __getitem__(self, index):\n",
    "        data = self.data[index].to(torch.float32)\n",
    "        label = self.labels[index]\n",
    "\n",
    "        if torch.cuda.is_available():\n",
    "            data = data.to(\"cuda\")\n",
    "            label = torch.tensor(label).to(\"cuda\")\n",
    "        return data, label"
   ]
  },
  {
   "cell_type": "code",
   "execution_count": null,
   "metadata": {
    "execution": {
     "iopub.execute_input": "2024-11-02T18:38:45.159561Z",
     "iopub.status.busy": "2024-11-02T18:38:45.158798Z",
     "iopub.status.idle": "2024-11-02T18:38:53.547243Z",
     "shell.execute_reply": "2024-11-02T18:38:53.546301Z",
     "shell.execute_reply.started": "2024-11-02T18:38:45.159522Z"
    },
    "trusted": true
   },
   "outputs": [],
   "source": [
    "trainset = SpectogramDataset(\"train\")\n",
    "devset = SpectogramDataset(\"dev\")\n",
    "testset = SpectogramDataset(\"test\")"
   ]
  },
  {
   "cell_type": "code",
   "execution_count": null,
   "metadata": {
    "execution": {
     "iopub.execute_input": "2024-11-02T18:56:37.479381Z",
     "iopub.status.busy": "2024-11-02T18:56:37.478493Z",
     "iopub.status.idle": "2024-11-02T18:56:37.483731Z",
     "shell.execute_reply": "2024-11-02T18:56:37.482748Z",
     "shell.execute_reply.started": "2024-11-02T18:56:37.479342Z"
    },
    "trusted": true
   },
   "outputs": [],
   "source": [
    "train_loader = DataLoader(trainset, batch_size=16, shuffle=True)\n",
    "dev_loader = DataLoader(devset, batch_size=64, shuffle=True)\n",
    "test_loader = DataLoader(testset, batch_size=64, shuffle=True)"
   ]
  },
  {
   "cell_type": "code",
   "execution_count": 5,
   "metadata": {
    "execution": {
     "iopub.execute_input": "2024-11-02T18:38:53.555684Z",
     "iopub.status.busy": "2024-11-02T18:38:53.555278Z",
     "iopub.status.idle": "2024-11-02T18:38:53.770087Z",
     "shell.execute_reply": "2024-11-02T18:38:53.769162Z",
     "shell.execute_reply.started": "2024-11-02T18:38:53.555623Z"
    },
    "trusted": true
   },
   "outputs": [
    {
     "data": {
      "text/plain": [
       "(torch.Size([16, 128, 4096]), torch.Size([16]))"
      ]
     },
     "execution_count": 5,
     "metadata": {},
     "output_type": "execute_result"
    }
   ],
   "source": [
    "train_features, train_labels = next(iter(train_loader))\n",
    "train_features.shape, train_labels.shape"
   ]
  },
  {
   "cell_type": "markdown",
   "metadata": {},
   "source": [
    "## Prelimnary CNN Model"
   ]
  },
  {
   "cell_type": "code",
   "execution_count": 24,
   "metadata": {
    "execution": {
     "iopub.execute_input": "2024-11-02T18:56:57.080654Z",
     "iopub.status.busy": "2024-11-02T18:56:57.079939Z",
     "iopub.status.idle": "2024-11-02T18:56:57.092359Z",
     "shell.execute_reply": "2024-11-02T18:56:57.091407Z",
     "shell.execute_reply.started": "2024-11-02T18:56:57.080613Z"
    },
    "trusted": true
   },
   "outputs": [],
   "source": [
    "class CNN(nn.Module):\n",
    "    def __init__(self):\n",
    "        super().__init__()\n",
    "        \n",
    "        self.pool = nn.MaxPool2d(kernel_size=(2, 2))\n",
    "        self.gap = nn.AdaptiveAvgPool2d((1,1))\n",
    "        \n",
    "        # Block 1\n",
    "        self.conv1 = nn.Conv2d(in_channels=1, out_channels=64, kernel_size=(3, 3), padding=1)\n",
    "        self.bn1 = nn.BatchNorm2d(num_features=64, affine=False)\n",
    "        \n",
    "        # Block 2\n",
    "        self.conv2 = nn.Conv2d(in_channels=64, out_channels=128, kernel_size=(3, 3), padding=1)\n",
    "        self.bn2 = nn.BatchNorm2d(num_features=128, affine=False)\n",
    "        \n",
    "        # Block 3\n",
    "        self.conv3 = nn.Conv2d(in_channels=128, out_channels=256, kernel_size=(5, 5), padding=1)\n",
    "        self.bn3 = nn.BatchNorm2d(num_features=256, affine=False)\n",
    "\n",
    "        # Block 4\n",
    "        # self.conv4 = nn.Conv2d(in_channels=256, out_channels=512, kernel_size=(5, 5), padding=1)\n",
    "        # self.bn4 = nn.BatchNorm2d(num_features=512, affine=False)\n",
    "\n",
    "        # Block 5\n",
    "        # self.conv5 = nn.Conv2d(in_channels=512, out_channels=1024, kernel_size=(7, 7), padding=1)\n",
    "        # self.bn5 = nn.BatchNorm2d(num_features=1024, affine=False)\n",
    "        \n",
    "        # Linear Layers\n",
    "        self.fc1 = nn.Linear(in_features=256*1*1, out_features=64)\n",
    "        self.fc2 = nn.Linear(in_features=64, out_features=128)\n",
    "        self.fc3 = nn.Linear(in_features=128, out_features=1)  # binary classifier\n",
    "    \n",
    "    def forward(self, x):\n",
    "        # CNN -> ReLU -> Pool -> BN\n",
    "        x = self.bn1(self.pool(F.relu(self.conv1(x))))\n",
    "        # print(x.shape)\n",
    "        x = self.bn2(self.pool(F.relu(self.conv2(x))))\n",
    "        # print(x.shape)\n",
    "        x = self.bn3(self.pool(F.relu(self.conv3(x))))\n",
    "        # x = self.bn4(self.pool(F.relu(self.conv4(x))))\n",
    "        # x = self.bn5(self.pool(F.relu(self.conv5(x))))\n",
    "\n",
    "        # print(x.shape)\n",
    "        x = self.gap(x)\n",
    "        # print(x.shape)\n",
    "        \n",
    "        # Flatten for linear layers\n",
    "        x = x.view(x.size(0), -1)  # Flatten to [batch_size, 256*1*1]\n",
    "        \n",
    "        # # Fully connected layers\n",
    "        x = F.relu(self.fc1(x))\n",
    "        x = F.relu(self.fc2(x))\n",
    "        x = self.fc3(x)  # Binary output with sigmoid for probability # no need of sigmoid because we will use sigmoid with loss\n",
    "        \n",
    "        return x"
   ]
  },
  {
   "cell_type": "code",
   "execution_count": 18,
   "metadata": {
    "execution": {
     "iopub.execute_input": "2024-11-02T18:42:48.319299Z",
     "iopub.status.busy": "2024-11-02T18:42:48.318900Z",
     "iopub.status.idle": "2024-11-02T18:42:48.335698Z",
     "shell.execute_reply": "2024-11-02T18:42:48.335000Z",
     "shell.execute_reply.started": "2024-11-02T18:42:48.319256Z"
    },
    "trusted": true
   },
   "outputs": [],
   "source": [
    "cnn_basic = CNN()\n",
    "cnn_basic.to(device)\n",
    "\n",
    "criterion = nn.BCEWithLogitsLoss()\n",
    "optimizer = optim.SGD(cnn_basic.parameters(), lr=0.005, momentum=0.9)"
   ]
  },
  {
   "cell_type": "code",
   "execution_count": 13,
   "metadata": {
    "execution": {
     "iopub.execute_input": "2024-11-02T18:41:48.203992Z",
     "iopub.status.busy": "2024-11-02T18:41:48.203610Z",
     "iopub.status.idle": "2024-11-02T18:41:48.210216Z",
     "shell.execute_reply": "2024-11-02T18:41:48.209295Z",
     "shell.execute_reply.started": "2024-11-02T18:41:48.203956Z"
    },
    "trusted": true
   },
   "outputs": [
    {
     "name": "stdout",
     "output_type": "stream",
     "text": [
      "Model size: 3.51 MB\n"
     ]
    }
   ],
   "source": [
    "def get_model_size(model):\n",
    "    model_size = 0\n",
    "    for param in model.parameters():\n",
    "        model_size += param.numel() * param.element_size()\n",
    "    model_size_MB = model_size / (1024 ** 2)  # Convert to MB\n",
    "    print(f\"Model size: {model_size_MB:.2f} MB\")\n",
    "    return model_size_MB\n",
    "\n",
    "# Example usage\n",
    "model_size_MB = get_model_size(cnn_basic)"
   ]
  },
  {
   "cell_type": "code",
   "execution_count": 14,
   "metadata": {
    "execution": {
     "iopub.execute_input": "2024-11-02T18:41:49.919131Z",
     "iopub.status.busy": "2024-11-02T18:41:49.918742Z",
     "iopub.status.idle": "2024-11-02T18:41:49.923706Z",
     "shell.execute_reply": "2024-11-02T18:41:49.922762Z",
     "shell.execute_reply.started": "2024-11-02T18:41:49.919097Z"
    },
    "trusted": true
   },
   "outputs": [],
   "source": [
    "def get_gpu_mem_stats():\n",
    "    stat = torch.cuda.memory_allocated(0) / (1024*1024*1024) # in GB\n",
    "    return stat"
   ]
  },
  {
   "cell_type": "code",
   "execution_count": null,
   "metadata": {
    "execution": {
     "iopub.execute_input": "2024-11-02T18:44:38.879672Z",
     "iopub.status.busy": "2024-11-02T18:44:38.879033Z",
     "iopub.status.idle": "2024-11-02T18:45:25.467582Z",
     "shell.execute_reply": "2024-11-02T18:45:25.466569Z",
     "shell.execute_reply.started": "2024-11-02T18:44:38.879636Z"
    },
    "jupyter": {
     "source_hidden": true
    },
    "trusted": true
   },
   "outputs": [
    {
     "name": "stdout",
     "output_type": "stream",
     "text": [
      "epoch: 0\n",
      "[1,     1] loss: 0.139\n",
      "[1,    21] loss: 2.779\n",
      "Finished Training\n"
     ]
    }
   ],
   "source": [
    "for epoch in range(50):\n",
    "    print(f\"epoch: {epoch}\")\n",
    "    \n",
    "    # stat = get_gpu_mem_stats()\n",
    "    # print(f\"Before data loading: {stat} GB\")\n",
    "    running_loss = 0.0\n",
    "    for i, data in enumerate(train_loader, start=0):  \n",
    "\n",
    "        # stat = get_gpu_mem_stats()\n",
    "        # print(f\"After data loading: {stat} GB\")\n",
    "        \n",
    "        inputs,labels = data\n",
    "        inputs = torch.unsqueeze(inputs, 1)\n",
    "        labels = torch.unsqueeze(labels, 1)\n",
    "        # print(inputs.shape)\n",
    "        # print(inputs.is_cuda, labels.is_cuda)\n",
    "\n",
    "        # zero gradient parameters\n",
    "        optimizer.zero_grad()\n",
    "        \n",
    "        # fw pass + bw pass + optimize\n",
    "        outputs = cnn_basic(inputs)\n",
    "        # print(outputs.dtype, labels.dtype)\n",
    "        # print(outputs.shape, labels.shape)\n",
    "        # stat = get_gpu_mem_stats()\n",
    "        # print(f\"After first fw: {stat} GB\")\n",
    "\n",
    "        loss = criterion(outputs, labels.float())\n",
    "        # stat = get_gpu_mem_stats()\n",
    "        # print(f\"After loss: {stat} GB\")\n",
    "        \n",
    "        loss.backward()\n",
    "        # stat = get_gpu_mem_stats()\n",
    "        # print(f\"After first bw: {stat} GB\")\n",
    "        \n",
    "        optimizer.step()\n",
    "        # stat = get_gpu_mem_stats()\n",
    "        # print(f\"After first fw: {stat} GB\")\n",
    "\n",
    "        del outputs\n",
    "        torch.cuda.empty_cache()\n",
    "\n",
    "        # print statistics\n",
    "        running_loss += loss.item()\n",
    "        if i % 20 == 0:\n",
    "            print(f'[{epoch + 1}, {i + 1:5d}] loss: {running_loss / 5:.3f}')\n",
    "            running_loss = 0.0\n",
    "\n",
    "print('Finished Training')"
   ]
  },
  {
   "cell_type": "markdown",
   "metadata": {},
   "source": [
    "# Tensorflow Training"
   ]
  },
  {
   "cell_type": "code",
   "execution_count": 1,
   "metadata": {
    "execution": {
     "iopub.execute_input": "2024-11-02T19:27:12.054295Z",
     "iopub.status.busy": "2024-11-02T19:27:12.053241Z",
     "iopub.status.idle": "2024-11-02T19:27:30.026870Z",
     "shell.execute_reply": "2024-11-02T19:27:30.025706Z",
     "shell.execute_reply.started": "2024-11-02T19:27:12.054243Z"
    },
    "trusted": true
   },
   "outputs": [
    {
     "name": "stdout",
     "output_type": "stream",
     "text": [
      "GPU is available\n"
     ]
    }
   ],
   "source": [
    "import os\n",
    "import pandas as pd\n",
    "import numpy as np\n",
    "import librosa as lr\n",
    "import matplotlib.pyplot as plt\n",
    "import seaborn as sns\n",
    "import pickle\n",
    "\n",
    "import torch\n",
    "\n",
    "import tensorflow as tf\n",
    "from tensorflow import keras\n",
    "\n",
    "mode = \"kaggle\"\n",
    "\n",
    "input_dir = \"\"\n",
    "output_dir = \"\"\n",
    "\n",
    "if mode == \"local\":\n",
    "    input_dir = \"../../\"\n",
    "    output_dir = \"\"\n",
    "\n",
    "if mode == \"kaggle\":\n",
    "    input_dir = \"/kaggle/input/depression-audio/daic-woz-dataset\"\n",
    "    features_dir = \"/kaggle/input/depression-audio/extracted_features\"\n",
    "    output_dir = \"/kaggle/working\"\n",
    "\n",
    "DATASET_DIR = f\"{input_dir}/extracted_audio\"\n",
    "DATAINFO_DIR = f\"{input_dir}/dataset_info\"\n",
    "MELSPECT_DIR = f\"{features_dir}/mel_spectograms\"\n",
    "\n",
    "# check if gpu is available\n",
    "if tf.test.gpu_device_name():\n",
    "    print(\"GPU is available\")\n",
    "    device_name = tf.test.gpu_device_name()\n",
    "else:\n",
    "    print(\"GPU is not available\")\n",
    "    device_name = 'CPU:0'"
   ]
  },
  {
   "cell_type": "markdown",
   "metadata": {},
   "source": [
    "## Data Loading"
   ]
  },
  {
   "cell_type": "code",
   "execution_count": 2,
   "metadata": {
    "execution": {
     "iopub.execute_input": "2024-11-02T19:27:30.029948Z",
     "iopub.status.busy": "2024-11-02T19:27:30.029155Z",
     "iopub.status.idle": "2024-11-02T19:27:40.875618Z",
     "shell.execute_reply": "2024-11-02T19:27:40.874600Z",
     "shell.execute_reply.started": "2024-11-02T19:27:30.029901Z"
    },
    "trusted": true
   },
   "outputs": [
    {
     "data": {
      "text/plain": [
       "TensorShape([822, 128, 4096])"
      ]
     },
     "execution_count": 2,
     "metadata": {},
     "output_type": "execute_result"
    }
   ],
   "source": [
    "train_features = torch.load(os.path.join(MELSPECT_DIR, f\"train_stacked_seg_spect.pkl\"), weights_only=True)\n",
    "train_features = train_features.numpy()\n",
    "train_features = tf.convert_to_tensor(train_features)\n",
    "train_features.shape"
   ]
  },
  {
   "cell_type": "code",
   "execution_count": 3,
   "metadata": {
    "execution": {
     "iopub.execute_input": "2024-11-02T19:27:40.877556Z",
     "iopub.status.busy": "2024-11-02T19:27:40.877141Z",
     "iopub.status.idle": "2024-11-02T19:27:40.888508Z",
     "shell.execute_reply": "2024-11-02T19:27:40.887353Z",
     "shell.execute_reply.started": "2024-11-02T19:27:40.877513Z"
    },
    "trusted": true
   },
   "outputs": [
    {
     "data": {
      "text/plain": [
       "(822,)"
      ]
     },
     "execution_count": 3,
     "metadata": {},
     "output_type": "execute_result"
    }
   ],
   "source": [
    "train_labels = np.load(os.path.join(MELSPECT_DIR, f\"train_labels.npy\"))\n",
    "train_labels.shape"
   ]
  },
  {
   "cell_type": "markdown",
   "metadata": {},
   "source": [
    "## Basic CNN Model"
   ]
  },
  {
   "cell_type": "code",
   "execution_count": 4,
   "metadata": {
    "execution": {
     "iopub.execute_input": "2024-11-02T19:27:40.890814Z",
     "iopub.status.busy": "2024-11-02T19:27:40.890478Z",
     "iopub.status.idle": "2024-11-02T19:27:41.129282Z",
     "shell.execute_reply": "2024-11-02T19:27:41.128147Z",
     "shell.execute_reply.started": "2024-11-02T19:27:40.890777Z"
    },
    "trusted": true
   },
   "outputs": [],
   "source": [
    "batch_size = 16\n",
    "n_channels = 1\n",
    "\n",
    "cnn_basic = keras.models.Sequential([\n",
    "    keras.layers.Input(shape=(128, 4096, 1)),\n",
    "    keras.layers.Conv2D(32, kernel_size=3, activation='relu'),\n",
    "    keras.layers.MaxPooling2D(pool_size=(2, 2)),\n",
    "    keras.layers.BatchNormalization(),\n",
    "    keras.layers.Conv2D(64, kernel_size=3, activation='relu'),\n",
    "    keras.layers.MaxPooling2D(pool_size=(2, 2)),\n",
    "    keras.layers.BatchNormalization(),\n",
    "    keras.layers.Conv2D(128, kernel_size=3, activation='relu'),\n",
    "    keras.layers.MaxPooling2D(pool_size=(2, 2)),\n",
    "    keras.layers.BatchNormalization(),\n",
    "    keras.layers.Conv2D(256, kernel_size=3, activation='relu'),\n",
    "    keras.layers.MaxPooling2D(pool_size=(2, 2)),\n",
    "    keras.layers.BatchNormalization(),\n",
    "    keras.layers.GlobalAveragePooling2D(),\n",
    "    keras.layers.Dense(256, activation='relu'),\n",
    "    keras.layers.Dropout(0.5),\n",
    "    keras.layers.Dense(1, activation='sigmoid')\n",
    "])\n",
    "\n",
    "cnn_basic.compile(optimizer='adam', loss='binary_crossentropy', metrics=['accuracy'])"
   ]
  },
  {
   "cell_type": "code",
   "execution_count": 5,
   "metadata": {
    "collapsed": true,
    "execution": {
     "iopub.execute_input": "2024-11-02T19:27:52.814116Z",
     "iopub.status.busy": "2024-11-02T19:27:52.813696Z",
     "iopub.status.idle": "2024-11-02T19:34:10.140936Z",
     "shell.execute_reply": "2024-11-02T19:34:10.140022Z",
     "shell.execute_reply.started": "2024-11-02T19:27:52.814074Z"
    },
    "jupyter": {
     "outputs_hidden": true
    },
    "trusted": true
   },
   "outputs": [
    {
     "name": "stdout",
     "output_type": "stream",
     "text": [
      "Epoch 1/50\n"
     ]
    },
    {
     "name": "stderr",
     "output_type": "stream",
     "text": [
      "WARNING: All log messages before absl::InitializeLog() is called are written to STDERR\n",
      "I0000 00:00:1730575678.075817     100 service.cc:145] XLA service 0x7b110c113c30 initialized for platform CUDA (this does not guarantee that XLA will be used). Devices:\n",
      "I0000 00:00:1730575678.075879     100 service.cc:153]   StreamExecutor device (0): Tesla P100-PCIE-16GB, Compute Capability 6.0\n",
      "2024-11-02 19:28:09.090331: E external/local_xla/xla/service/slow_operation_alarm.cc:65] Trying algorithm eng0{} for conv (f32[64,32,3,3]{3,2,1,0}, u8[0]{0}) custom-call(f32[16,32,63,2047]{3,2,1,0}, f32[16,64,61,2045]{3,2,1,0}), window={size=3x3}, dim_labels=bf01_oi01->bf01, custom_call_target=\"__cudnn$convBackwardFilter\", backend_config={\"operation_queue_id\":\"0\",\"wait_on_operation_queues\":[],\"cudnn_conv_backend_config\":{\"conv_result_scale\":1,\"activation_mode\":\"kNone\",\"side_input_scale\":0,\"leakyrelu_alpha\":0}} is taking a while...\n",
      "2024-11-02 19:28:09.624816: E external/local_xla/xla/service/slow_operation_alarm.cc:133] The operation took 1.534648384s\n",
      "Trying algorithm eng0{} for conv (f32[64,32,3,3]{3,2,1,0}, u8[0]{0}) custom-call(f32[16,32,63,2047]{3,2,1,0}, f32[16,64,61,2045]{3,2,1,0}), window={size=3x3}, dim_labels=bf01_oi01->bf01, custom_call_target=\"__cudnn$convBackwardFilter\", backend_config={\"operation_queue_id\":\"0\",\"wait_on_operation_queues\":[],\"cudnn_conv_backend_config\":{\"conv_result_scale\":1,\"activation_mode\":\"kNone\",\"side_input_scale\":0,\"leakyrelu_alpha\":0}} is taking a while...\n"
     ]
    },
    {
     "name": "stdout",
     "output_type": "stream",
     "text": [
      "\u001b[1m 1/52\u001b[0m \u001b[37m━━━━━━━━━━━━━━━━━━━━\u001b[0m \u001b[1m16:50\u001b[0m 20s/step - accuracy: 0.4375 - loss: 0.7392"
     ]
    },
    {
     "name": "stderr",
     "output_type": "stream",
     "text": [
      "I0000 00:00:1730575694.114259     100 device_compiler.h:188] Compiled cluster using XLA!  This line is logged at most once for the lifetime of the process.\n"
     ]
    },
    {
     "name": "stdout",
     "output_type": "stream",
     "text": [
      "\u001b[1m52/52\u001b[0m \u001b[32m━━━━━━━━━━━━━━━━━━━━\u001b[0m\u001b[37m\u001b[0m \u001b[1m35s\u001b[0m 295ms/step - accuracy: 0.4795 - loss: 0.7365\n",
      "Epoch 2/50\n",
      "\u001b[1m52/52\u001b[0m \u001b[32m━━━━━━━━━━━━━━━━━━━━\u001b[0m\u001b[37m\u001b[0m \u001b[1m7s\u001b[0m 133ms/step - accuracy: 0.5216 - loss: 0.7062\n",
      "Epoch 3/50\n",
      "\u001b[1m52/52\u001b[0m \u001b[32m━━━━━━━━━━━━━━━━━━━━\u001b[0m\u001b[37m\u001b[0m \u001b[1m7s\u001b[0m 132ms/step - accuracy: 0.4872 - loss: 0.7220\n",
      "Epoch 4/50\n",
      "\u001b[1m52/52\u001b[0m \u001b[32m━━━━━━━━━━━━━━━━━━━━\u001b[0m\u001b[37m\u001b[0m \u001b[1m7s\u001b[0m 133ms/step - accuracy: 0.5111 - loss: 0.7083\n",
      "Epoch 5/50\n",
      "\u001b[1m52/52\u001b[0m \u001b[32m━━━━━━━━━━━━━━━━━━━━\u001b[0m\u001b[37m\u001b[0m \u001b[1m7s\u001b[0m 133ms/step - accuracy: 0.4883 - loss: 0.7317\n",
      "Epoch 6/50\n",
      "\u001b[1m52/52\u001b[0m \u001b[32m━━━━━━━━━━━━━━━━━━━━\u001b[0m\u001b[37m\u001b[0m \u001b[1m7s\u001b[0m 132ms/step - accuracy: 0.4918 - loss: 0.7249\n",
      "Epoch 7/50\n",
      "\u001b[1m52/52\u001b[0m \u001b[32m━━━━━━━━━━━━━━━━━━━━\u001b[0m\u001b[37m\u001b[0m \u001b[1m7s\u001b[0m 132ms/step - accuracy: 0.5523 - loss: 0.6903\n",
      "Epoch 8/50\n",
      "\u001b[1m52/52\u001b[0m \u001b[32m━━━━━━━━━━━━━━━━━━━━\u001b[0m\u001b[37m\u001b[0m \u001b[1m7s\u001b[0m 133ms/step - accuracy: 0.4595 - loss: 0.7109\n",
      "Epoch 9/50\n",
      "\u001b[1m52/52\u001b[0m \u001b[32m━━━━━━━━━━━━━━━━━━━━\u001b[0m\u001b[37m\u001b[0m \u001b[1m7s\u001b[0m 132ms/step - accuracy: 0.4867 - loss: 0.7173\n",
      "Epoch 10/50\n",
      "\u001b[1m52/52\u001b[0m \u001b[32m━━━━━━━━━━━━━━━━━━━━\u001b[0m\u001b[37m\u001b[0m \u001b[1m7s\u001b[0m 132ms/step - accuracy: 0.5023 - loss: 0.7046\n",
      "Epoch 11/50\n",
      "\u001b[1m52/52\u001b[0m \u001b[32m━━━━━━━━━━━━━━━━━━━━\u001b[0m\u001b[37m\u001b[0m \u001b[1m7s\u001b[0m 132ms/step - accuracy: 0.5206 - loss: 0.6960\n",
      "Epoch 12/50\n",
      "\u001b[1m52/52\u001b[0m \u001b[32m━━━━━━━━━━━━━━━━━━━━\u001b[0m\u001b[37m\u001b[0m \u001b[1m7s\u001b[0m 132ms/step - accuracy: 0.5348 - loss: 0.7018\n",
      "Epoch 13/50\n",
      "\u001b[1m52/52\u001b[0m \u001b[32m━━━━━━━━━━━━━━━━━━━━\u001b[0m\u001b[37m\u001b[0m \u001b[1m7s\u001b[0m 132ms/step - accuracy: 0.4638 - loss: 0.7047\n",
      "Epoch 14/50\n",
      "\u001b[1m52/52\u001b[0m \u001b[32m━━━━━━━━━━━━━━━━━━━━\u001b[0m\u001b[37m\u001b[0m \u001b[1m7s\u001b[0m 132ms/step - accuracy: 0.5238 - loss: 0.6936\n",
      "Epoch 15/50\n",
      "\u001b[1m52/52\u001b[0m \u001b[32m━━━━━━━━━━━━━━━━━━━━\u001b[0m\u001b[37m\u001b[0m \u001b[1m7s\u001b[0m 133ms/step - accuracy: 0.5260 - loss: 0.6974\n",
      "Epoch 16/50\n",
      "\u001b[1m52/52\u001b[0m \u001b[32m━━━━━━━━━━━━━━━━━━━━\u001b[0m\u001b[37m\u001b[0m \u001b[1m7s\u001b[0m 132ms/step - accuracy: 0.5225 - loss: 0.6967\n",
      "Epoch 17/50\n",
      "\u001b[1m52/52\u001b[0m \u001b[32m━━━━━━━━━━━━━━━━━━━━\u001b[0m\u001b[37m\u001b[0m \u001b[1m7s\u001b[0m 133ms/step - accuracy: 0.5531 - loss: 0.6896\n",
      "Epoch 18/50\n",
      "\u001b[1m52/52\u001b[0m \u001b[32m━━━━━━━━━━━━━━━━━━━━\u001b[0m\u001b[37m\u001b[0m \u001b[1m7s\u001b[0m 133ms/step - accuracy: 0.5069 - loss: 0.6977\n",
      "Epoch 19/50\n",
      "\u001b[1m52/52\u001b[0m \u001b[32m━━━━━━━━━━━━━━━━━━━━\u001b[0m\u001b[37m\u001b[0m \u001b[1m7s\u001b[0m 133ms/step - accuracy: 0.4793 - loss: 0.7007\n",
      "Epoch 20/50\n",
      "\u001b[1m52/52\u001b[0m \u001b[32m━━━━━━━━━━━━━━━━━━━━\u001b[0m\u001b[37m\u001b[0m \u001b[1m7s\u001b[0m 133ms/step - accuracy: 0.5435 - loss: 0.6898\n",
      "Epoch 21/50\n",
      "\u001b[1m52/52\u001b[0m \u001b[32m━━━━━━━━━━━━━━━━━━━━\u001b[0m\u001b[37m\u001b[0m \u001b[1m7s\u001b[0m 133ms/step - accuracy: 0.5249 - loss: 0.6962\n",
      "Epoch 22/50\n",
      "\u001b[1m52/52\u001b[0m \u001b[32m━━━━━━━━━━━━━━━━━━━━\u001b[0m\u001b[37m\u001b[0m \u001b[1m7s\u001b[0m 133ms/step - accuracy: 0.5235 - loss: 0.6965\n",
      "Epoch 23/50\n",
      "\u001b[1m52/52\u001b[0m \u001b[32m━━━━━━━━━━━━━━━━━━━━\u001b[0m\u001b[37m\u001b[0m \u001b[1m7s\u001b[0m 132ms/step - accuracy: 0.5533 - loss: 0.6896\n",
      "Epoch 24/50\n",
      "\u001b[1m52/52\u001b[0m \u001b[32m━━━━━━━━━━━━━━━━━━━━\u001b[0m\u001b[37m\u001b[0m \u001b[1m7s\u001b[0m 132ms/step - accuracy: 0.5087 - loss: 0.6951\n",
      "Epoch 25/50\n",
      "\u001b[1m52/52\u001b[0m \u001b[32m━━━━━━━━━━━━━━━━━━━━\u001b[0m\u001b[37m\u001b[0m \u001b[1m7s\u001b[0m 133ms/step - accuracy: 0.5093 - loss: 0.6975\n",
      "Epoch 26/50\n",
      "\u001b[1m52/52\u001b[0m \u001b[32m━━━━━━━━━━━━━━━━━━━━\u001b[0m\u001b[37m\u001b[0m \u001b[1m7s\u001b[0m 132ms/step - accuracy: 0.5393 - loss: 0.6872\n",
      "Epoch 27/50\n",
      "\u001b[1m52/52\u001b[0m \u001b[32m━━━━━━━━━━━━━━━━━━━━\u001b[0m\u001b[37m\u001b[0m \u001b[1m7s\u001b[0m 132ms/step - accuracy: 0.5075 - loss: 0.6981\n",
      "Epoch 28/50\n",
      "\u001b[1m52/52\u001b[0m \u001b[32m━━━━━━━━━━━━━━━━━━━━\u001b[0m\u001b[37m\u001b[0m \u001b[1m7s\u001b[0m 132ms/step - accuracy: 0.5257 - loss: 0.6965\n",
      "Epoch 29/50\n",
      "\u001b[1m52/52\u001b[0m \u001b[32m━━━━━━━━━━━━━━━━━━━━\u001b[0m\u001b[37m\u001b[0m \u001b[1m7s\u001b[0m 132ms/step - accuracy: 0.5286 - loss: 0.6933\n",
      "Epoch 30/50\n",
      "\u001b[1m52/52\u001b[0m \u001b[32m━━━━━━━━━━━━━━━━━━━━\u001b[0m\u001b[37m\u001b[0m \u001b[1m7s\u001b[0m 132ms/step - accuracy: 0.5498 - loss: 0.6867\n",
      "Epoch 31/50\n",
      "\u001b[1m52/52\u001b[0m \u001b[32m━━━━━━━━━━━━━━━━━━━━\u001b[0m\u001b[37m\u001b[0m \u001b[1m7s\u001b[0m 133ms/step - accuracy: 0.5201 - loss: 0.6934\n",
      "Epoch 32/50\n",
      "\u001b[1m52/52\u001b[0m \u001b[32m━━━━━━━━━━━━━━━━━━━━\u001b[0m\u001b[37m\u001b[0m \u001b[1m7s\u001b[0m 133ms/step - accuracy: 0.5429 - loss: 0.6917\n",
      "Epoch 33/50\n",
      "\u001b[1m52/52\u001b[0m \u001b[32m━━━━━━━━━━━━━━━━━━━━\u001b[0m\u001b[37m\u001b[0m \u001b[1m7s\u001b[0m 133ms/step - accuracy: 0.5550 - loss: 0.6890\n",
      "Epoch 34/50\n",
      "\u001b[1m52/52\u001b[0m \u001b[32m━━━━━━━━━━━━━━━━━━━━\u001b[0m\u001b[37m\u001b[0m \u001b[1m7s\u001b[0m 133ms/step - accuracy: 0.5593 - loss: 0.6890\n",
      "Epoch 35/50\n",
      "\u001b[1m52/52\u001b[0m \u001b[32m━━━━━━━━━━━━━━━━━━━━\u001b[0m\u001b[37m\u001b[0m \u001b[1m7s\u001b[0m 133ms/step - accuracy: 0.5220 - loss: 0.6925\n",
      "Epoch 36/50\n",
      "\u001b[1m52/52\u001b[0m \u001b[32m━━━━━━━━━━━━━━━━━━━━\u001b[0m\u001b[37m\u001b[0m \u001b[1m7s\u001b[0m 132ms/step - accuracy: 0.5241 - loss: 0.6921\n",
      "Epoch 37/50\n",
      "\u001b[1m52/52\u001b[0m \u001b[32m━━━━━━━━━━━━━━━━━━━━\u001b[0m\u001b[37m\u001b[0m \u001b[1m7s\u001b[0m 132ms/step - accuracy: 0.5644 - loss: 0.6862\n",
      "Epoch 38/50\n",
      "\u001b[1m52/52\u001b[0m \u001b[32m━━━━━━━━━━━━━━━━━━━━\u001b[0m\u001b[37m\u001b[0m \u001b[1m7s\u001b[0m 132ms/step - accuracy: 0.5581 - loss: 0.6885\n",
      "Epoch 39/50\n",
      "\u001b[1m52/52\u001b[0m \u001b[32m━━━━━━━━━━━━━━━━━━━━\u001b[0m\u001b[37m\u001b[0m \u001b[1m7s\u001b[0m 133ms/step - accuracy: 0.5251 - loss: 0.6946\n",
      "Epoch 40/50\n",
      "\u001b[1m52/52\u001b[0m \u001b[32m━━━━━━━━━━━━━━━━━━━━\u001b[0m\u001b[37m\u001b[0m \u001b[1m7s\u001b[0m 133ms/step - accuracy: 0.5727 - loss: 0.6889\n",
      "Epoch 41/50\n",
      "\u001b[1m52/52\u001b[0m \u001b[32m━━━━━━━━━━━━━━━━━━━━\u001b[0m\u001b[37m\u001b[0m \u001b[1m7s\u001b[0m 132ms/step - accuracy: 0.5500 - loss: 0.6871\n",
      "Epoch 42/50\n",
      "\u001b[1m52/52\u001b[0m \u001b[32m━━━━━━━━━━━━━━━━━━━━\u001b[0m\u001b[37m\u001b[0m \u001b[1m7s\u001b[0m 132ms/step - accuracy: 0.5527 - loss: 0.6879\n",
      "Epoch 43/50\n",
      "\u001b[1m52/52\u001b[0m \u001b[32m━━━━━━━━━━━━━━━━━━━━\u001b[0m\u001b[37m\u001b[0m \u001b[1m7s\u001b[0m 132ms/step - accuracy: 0.5547 - loss: 0.6886\n",
      "Epoch 44/50\n",
      "\u001b[1m52/52\u001b[0m \u001b[32m━━━━━━━━━━━━━━━━━━━━\u001b[0m\u001b[37m\u001b[0m \u001b[1m7s\u001b[0m 132ms/step - accuracy: 0.5128 - loss: 0.6947\n",
      "Epoch 45/50\n",
      "\u001b[1m52/52\u001b[0m \u001b[32m━━━━━━━━━━━━━━━━━━━━\u001b[0m\u001b[37m\u001b[0m \u001b[1m7s\u001b[0m 133ms/step - accuracy: 0.5277 - loss: 0.6947\n",
      "Epoch 46/50\n",
      "\u001b[1m52/52\u001b[0m \u001b[32m━━━━━━━━━━━━━━━━━━━━\u001b[0m\u001b[37m\u001b[0m \u001b[1m7s\u001b[0m 132ms/step - accuracy: 0.5597 - loss: 0.6895\n",
      "Epoch 47/50\n",
      "\u001b[1m52/52\u001b[0m \u001b[32m━━━━━━━━━━━━━━━━━━━━\u001b[0m\u001b[37m\u001b[0m \u001b[1m7s\u001b[0m 132ms/step - accuracy: 0.5608 - loss: 0.6868\n",
      "Epoch 48/50\n",
      "\u001b[1m52/52\u001b[0m \u001b[32m━━━━━━━━━━━━━━━━━━━━\u001b[0m\u001b[37m\u001b[0m \u001b[1m7s\u001b[0m 132ms/step - accuracy: 0.5424 - loss: 0.6879\n",
      "Epoch 49/50\n",
      "\u001b[1m52/52\u001b[0m \u001b[32m━━━━━━━━━━━━━━━━━━━━\u001b[0m\u001b[37m\u001b[0m \u001b[1m7s\u001b[0m 133ms/step - accuracy: 0.5303 - loss: 0.6913\n",
      "Epoch 50/50\n",
      "\u001b[1m52/52\u001b[0m \u001b[32m━━━━━━━━━━━━━━━━━━━━\u001b[0m\u001b[37m\u001b[0m \u001b[1m7s\u001b[0m 133ms/step - accuracy: 0.5341 - loss: 0.6916\n"
     ]
    }
   ],
   "source": [
    "h = cnn_basic.fit(train_features, train_labels, batch_size=batch_size, epochs=50)\n",
    "cnn_basic.save(os.path.join(output_dir, \"cnn_basic.keras\"))"
   ]
  },
  {
   "cell_type": "markdown",
   "metadata": {},
   "source": [
    "# Playground"
   ]
  }
 ],
 "metadata": {
  "kaggle": {
   "accelerator": "gpu",
   "dataSources": [
    {
     "datasetId": 5875699,
     "sourceId": 9789823,
     "sourceType": "datasetVersion"
    }
   ],
   "dockerImageVersionId": 30786,
   "isGpuEnabled": true,
   "isInternetEnabled": true,
   "language": "python",
   "sourceType": "notebook"
  },
  "kernelspec": {
   "display_name": "Python 3",
   "language": "python",
   "name": "python3"
  },
  "language_info": {
   "codemirror_mode": {
    "name": "ipython",
    "version": 3
   },
   "file_extension": ".py",
   "mimetype": "text/x-python",
   "name": "python",
   "nbconvert_exporter": "python",
   "pygments_lexer": "ipython3",
   "version": "3.10.14"
  }
 },
 "nbformat": 4,
 "nbformat_minor": 4
}
